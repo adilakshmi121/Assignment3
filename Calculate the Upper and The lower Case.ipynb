{
 "cells": [
  {
   "cell_type": "markdown",
   "id": "f3c15171",
   "metadata": {},
   "source": [
    "# Write a Python function that accepts a string and calculate the number of upper case letters and lower case letters.\n"
   ]
  },
  {
   "cell_type": "code",
   "execution_count": 31,
   "id": "74b72be0",
   "metadata": {},
   "outputs": [
    {
     "name": "stdout",
     "output_type": "stream",
     "text": [
      "Number of upper case letters: 3\n",
      "Number of lower case letters: 9\n"
     ]
    }
   ],
   "source": [
    "def count(string):\n",
    "    upper_count =0\n",
    "    lower_count =0\n",
    "    for char in string:\n",
    "     if char.isupper():\n",
    "        upper_count += 1\n",
    "     elif char.islower():\n",
    "        lower_count += 1\n",
    "     else:\n",
    "        pass\n",
    "    print(\"Number of upper case letters:\", upper_count)\n",
    "    print(\"Number of lower case letters:\", lower_count)\n",
    "count(\"Hi, Hello World\")"
   ]
  }
 ],
 "metadata": {
  "kernelspec": {
   "display_name": "Python 3 (ipykernel)",
   "language": "python",
   "name": "python3"
  },
  "language_info": {
   "codemirror_mode": {
    "name": "ipython",
    "version": 3
   },
   "file_extension": ".py",
   "mimetype": "text/x-python",
   "name": "python",
   "nbconvert_exporter": "python",
   "pygments_lexer": "ipython3",
   "version": "3.11.1"
  }
 },
 "nbformat": 4,
 "nbformat_minor": 5
}
